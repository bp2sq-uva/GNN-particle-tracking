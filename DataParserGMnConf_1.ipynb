{
  "nbformat": 4,
  "nbformat_minor": 0,
  "metadata": {
    "colab": {
      "provenance": []
    },
    "kernelspec": {
      "name": "python3",
      "display_name": "Python 3"
    },
    "language_info": {
      "name": "python"
    }
  },
  "cells": [
    {
      "cell_type": "code",
      "execution_count": 1,
      "metadata": {
        "id": "ftHHjmXzMXyn"
      },
      "outputs": [],
      "source": [
        "import numpy as np\n",
        "import pandas as pd"
      ]
    },
    {
      "cell_type": "code",
      "source": [
        "df_10 = pd.read_csv(\"hit_data_GMn_11495_seg_7_7.txt\", sep=\" \", header=None)"
      ],
      "metadata": {
        "id": "N1lU-hxiMrb-"
      },
      "execution_count": 2,
      "outputs": []
    },
    {
      "cell_type": "code",
      "source": [
        "column_names=[\"nevent\",\"Number of Tracks Found\",\"Number of good hits on all tracks\",\"Hits on track 1\",\"Hits on track 2\",\"Hits on track 3\",\"Track index\",\"GEM Layer\",\"Global X\",\"Global Y\",\n",
        "              \"Global X_Layer0\",\"Global Y_Layer0\",\"Layer0_On Track?\",\n",
        "              \"Global X_Layer1-1\",\"Global Y_Layer1-1\",\"Layer1-1_On Track?\",\"Global X_Layer1-2\",\"Global Y_Layer1-2\",\"Layer1-2_On Track?\",\"Global X_Layer1-3\",\"Global Y_Layer1-3\",\"Layer1-3_On Track?\",\n",
        "              \"Global X_Layer2\",\"Global Y_Layer2\",\"Layer2_On Track?\",\n",
        "              \"Global X_Layer3-1\",\"Global Y_Layer3-1\",\"Layer3-1_On Track?\",\"Global X_Layer3-2\",\"Global Y_Layer3-2\",\"Layer3-2_On Track?\",\"Global X_Layer3-3\",\"Global Y_Layer3-3\",\"Layer3-3_On Track?\",\n",
        "              \"Global X_Layer4-1\",\"Global Y_Layer4-1\",\"Layer4-1_On Track?\",\"Global X_Layer4-2\",\"Global Y_Layer4-2\",\"Layer4-2_On Track?\",\"Global X_Layer4-3\",\"Global Y_Layer4-3\",\"Layer4-3_On Track?\",\"Global X_Layer4-4\",\"Global Y_Layer4-4\",\"Layer4-4_On Track?\"]\n",
        "\n",
        "df_10.columns = column_names"
      ],
      "metadata": {
        "id": "xFAgPzvnMyY-"
      },
      "execution_count": 3,
      "outputs": []
    },
    {
      "cell_type": "code",
      "source": [
        "dataframes = [df_10]\n",
        "\n",
        "adjustment = 0\n",
        "result_dfs = []\n",
        "\n",
        "for df_temp in dataframes:\n",
        "    df_copy = df_temp.copy()\n",
        "    df_copy['nevent'] += adjustment\n",
        "    result_dfs.append(df_copy)\n",
        "\n",
        "    adjustment = df_copy['nevent'].iloc[-1] + 1\n",
        "\n",
        "df = pd.concat(result_dfs, axis=0, ignore_index=True)"
      ],
      "metadata": {
        "id": "QgyiZNHiMyaT"
      },
      "execution_count": 4,
      "outputs": []
    },
    {
      "cell_type": "code",
      "source": [
        "filtered_df = df"
      ],
      "metadata": {
        "id": "1NIWYOCfMybg"
      },
      "execution_count": 5,
      "outputs": []
    },
    {
      "cell_type": "code",
      "source": [
        "filtered_df = filtered_df.groupby('nevent').filter(lambda x: not ((x['Global X_Layer1-1'] != 0) & (x['Global X_Layer1-2'] != 0)).any())\n",
        "filtered_df = filtered_df.groupby('nevent').filter(lambda x: not ((x['Global X_Layer1-1'] != 0) & (x['Global X_Layer1-3'] != 0)).any())\n",
        "filtered_df = filtered_df.groupby('nevent').filter(lambda x: not ((x['Global X_Layer1-2'] != 0) & (x['Global X_Layer1-3'] != 0)).any())\n",
        "\n",
        "filtered_df = filtered_df.groupby('nevent').filter(lambda x: not ((x['Global X_Layer3-1'] != 0) & (x['Global X_Layer3-2'] != 0)).any())\n",
        "filtered_df = filtered_df.groupby('nevent').filter(lambda x: not ((x['Global X_Layer3-1'] != 0) & (x['Global X_Layer3-3'] != 0)).any())\n",
        "filtered_df = filtered_df.groupby('nevent').filter(lambda x: not ((x['Global X_Layer3-2'] != 0) & (x['Global X_Layer3-3'] != 0)).any())\n",
        "\n",
        "filtered_df = filtered_df.groupby('nevent').filter(lambda x: not ((x['Global X_Layer4-1'] != 0) & (x['Global X_Layer4-2'] != 0)).any())\n",
        "filtered_df = filtered_df.groupby('nevent').filter(lambda x: not ((x['Global X_Layer4-1'] != 0) & (x['Global X_Layer4-3'] != 0)).any())\n",
        "filtered_df = filtered_df.groupby('nevent').filter(lambda x: not ((x['Global X_Layer4-1'] != 0) & (x['Global X_Layer4-4'] != 0)).any())\n",
        "filtered_df = filtered_df.groupby('nevent').filter(lambda x: not ((x['Global X_Layer4-2'] != 0) & (x['Global X_Layer4-3'] != 0)).any())\n",
        "filtered_df = filtered_df.groupby('nevent').filter(lambda x: not ((x['Global X_Layer4-2'] != 0) & (x['Global X_Layer4-4'] != 0)).any())\n",
        "filtered_df = filtered_df.groupby('nevent').filter(lambda x: not ((x['Global X_Layer4-3'] != 0) & (x['Global X_Layer4-4'] != 0)).any())"
      ],
      "metadata": {
        "id": "YRGKs28NM6un"
      },
      "execution_count": 6,
      "outputs": []
    },
    {
      "cell_type": "code",
      "source": [
        "df = filtered_df"
      ],
      "metadata": {
        "id": "7JbY_U0FM6wT"
      },
      "execution_count": 7,
      "outputs": []
    },
    {
      "cell_type": "code",
      "source": [
        "df.loc[df['Global X_Layer1-1'] == 0, 'Global X_Layer1-1'] = df.loc[df['Global X_Layer1-1'] == 0, 'Global X_Layer1-2']\n",
        "df.loc[df['Global Y_Layer1-1'] == 0, 'Global Y_Layer1-1'] = df.loc[df['Global Y_Layer1-1'] == 0, 'Global Y_Layer1-2']\n",
        "df.loc[df['Layer1-1_On Track?'] == 0, 'Layer1-1_On Track?'] = df.loc[df['Layer1-1_On Track?'] == 0, 'Layer1-2_On Track?']\n",
        "\n",
        "df.loc[df['Global X_Layer1-1'] == 0, 'Global X_Layer1-1'] = df.loc[df['Global X_Layer1-1'] == 0, 'Global X_Layer1-3']\n",
        "df.loc[df['Global Y_Layer1-1'] == 0, 'Global Y_Layer1-1'] = df.loc[df['Global Y_Layer1-1'] == 0, 'Global Y_Layer1-3']\n",
        "df.loc[df['Layer1-1_On Track?'] == 0, 'Layer1-1_On Track?'] = df.loc[df['Layer1-1_On Track?'] == 0, 'Layer1-3_On Track?']"
      ],
      "metadata": {
        "id": "MzWCCvzfNAwd"
      },
      "execution_count": 8,
      "outputs": []
    },
    {
      "cell_type": "code",
      "source": [
        "df.loc[df['Global X_Layer3-1'] == 0, 'Global X_Layer3-1'] = df.loc[df['Global X_Layer3-1'] == 0, 'Global X_Layer3-2']\n",
        "df.loc[df['Global Y_Layer3-1'] == 0, 'Global Y_Layer3-1'] = df.loc[df['Global Y_Layer3-1'] == 0, 'Global Y_Layer3-2']\n",
        "df.loc[df['Layer3-1_On Track?'] == 0, 'Layer3-1_On Track?'] = df.loc[df['Layer3-1_On Track?'] == 0, 'Layer3-2_On Track?']\n",
        "\n",
        "df.loc[df['Global X_Layer3-1'] == 0, 'Global X_Layer3-1'] = df.loc[df['Global X_Layer3-1'] == 0, 'Global X_Layer3-3']\n",
        "df.loc[df['Global Y_Layer3-1'] == 0, 'Global Y_Layer3-1'] = df.loc[df['Global Y_Layer3-1'] == 0, 'Global Y_Layer3-3']\n",
        "df.loc[df['Layer3-1_On Track?'] == 0, 'Layer3-1_On Track?'] = df.loc[df['Layer3-1_On Track?'] == 0, 'Layer3-3_On Track?']"
      ],
      "metadata": {
        "id": "sTJu3dHYNAzx"
      },
      "execution_count": 9,
      "outputs": []
    },
    {
      "cell_type": "code",
      "source": [
        "df.loc[df['Global X_Layer4-1'] == 0, 'Global X_Layer4-1'] = df.loc[df['Global X_Layer4-1'] == 0, 'Global X_Layer4-2']\n",
        "df.loc[df['Global Y_Layer4-1'] == 0, 'Global Y_Layer4-1'] = df.loc[df['Global Y_Layer4-1'] == 0, 'Global Y_Layer4-2']\n",
        "df.loc[df['Layer4-1_On Track?'] == 0, 'Layer4-1_On Track?'] = df.loc[df['Layer4-1_On Track?'] == 0, 'Layer4-2_On Track?']\n",
        "\n",
        "df.loc[df['Global X_Layer4-1'] == 0, 'Global X_Layer4-1'] = df.loc[df['Global X_Layer4-1'] == 0, 'Global X_Layer4-3']\n",
        "df.loc[df['Global Y_Layer4-1'] == 0, 'Global Y_Layer4-1'] = df.loc[df['Global Y_Layer4-1'] == 0, 'Global Y_Layer4-3']\n",
        "df.loc[df['Layer4-1_On Track?'] == 0, 'Layer4-1_On Track?'] = df.loc[df['Layer4-1_On Track?'] == 0, 'Layer4-3_On Track?']\n",
        "\n",
        "df.loc[df['Global X_Layer4-1'] == 0, 'Global X_Layer4-1'] = df.loc[df['Global X_Layer4-1'] == 0, 'Global X_Layer4-4']\n",
        "df.loc[df['Global Y_Layer4-1'] == 0, 'Global Y_Layer4-1'] = df.loc[df['Global Y_Layer4-1'] == 0, 'Global Y_Layer4-4']\n",
        "df.loc[df['Layer4-1_On Track?'] == 0, 'Layer4-1_On Track?'] = df.loc[df['Layer4-1_On Track?'] == 0, 'Layer4-4_On Track?']"
      ],
      "metadata": {
        "id": "PozVKSwpOZhh"
      },
      "execution_count": 10,
      "outputs": []
    },
    {
      "cell_type": "code",
      "source": [
        "df.rename(columns={'Global X_Layer1-1': 'Global X_Layer1'}, inplace=True)\n",
        "df.rename(columns={'Global Y_Layer1-1': 'Global Y_Layer1'}, inplace=True)\n",
        "df.rename(columns={'Layer1-1_On Track?': 'Layer1_On Track?'}, inplace=True)\n",
        "\n",
        "df.rename(columns={'Global X_Layer3-1': 'Global X_Layer3'}, inplace=True)\n",
        "df.rename(columns={'Global Y_Layer3-1': 'Global Y_Layer3'}, inplace=True)\n",
        "df.rename(columns={'Layer3-1_On Track?': 'Layer3_On Track?'}, inplace=True)\n",
        "\n",
        "df.rename(columns={'Global X_Layer4-1': 'Global X_Layer4'}, inplace=True)\n",
        "df.rename(columns={'Global Y_Layer4-1': 'Global Y_Layer4'}, inplace=True)\n",
        "df.rename(columns={'Layer4-1_On Track?': 'Layer4_On Track?'}, inplace=True)"
      ],
      "metadata": {
        "id": "MdD1EgVzOfAv"
      },
      "execution_count": 11,
      "outputs": []
    },
    {
      "cell_type": "code",
      "source": [
        "df.drop(columns=['Global X_Layer1-2', 'Global X_Layer1-3'], inplace=True)\n",
        "df.drop(columns=['Global Y_Layer1-2', 'Global Y_Layer1-3'], inplace=True)\n",
        "df.drop(columns=['Layer1-2_On Track?', 'Layer1-3_On Track?'], inplace=True)\n",
        "\n",
        "df.drop(columns=['Global X_Layer3-2', 'Global X_Layer3-3'], inplace=True)\n",
        "df.drop(columns=['Global Y_Layer3-2', 'Global Y_Layer3-3'], inplace=True)\n",
        "df.drop(columns=['Layer3-2_On Track?', 'Layer3-3_On Track?'], inplace=True)\n",
        "\n",
        "df.drop(columns=['Global X_Layer4-2', 'Global X_Layer4-3', 'Global X_Layer4-4'], inplace=True)\n",
        "df.drop(columns=['Global Y_Layer4-2', 'Global Y_Layer4-3', 'Global Y_Layer4-4'], inplace=True)\n",
        "df.drop(columns=['Layer4-2_On Track?', 'Layer4-3_On Track?', 'Layer4-4_On Track?'], inplace=True)"
      ],
      "metadata": {
        "id": "cjRm2SI4OfCR"
      },
      "execution_count": 12,
      "outputs": []
    },
    {
      "cell_type": "code",
      "source": [
        "df_filtered = df[(df['Global X_Layer0'] != 0) | (df['Global X_Layer1'] != 0) | (df['Global X_Layer2'] != 0) | (df['Global X_Layer3'] != 0) | (df['Global X_Layer4'] != 0)]\n",
        "df_filtered = df_filtered[(df_filtered['Number of Tracks Found'] ==1)]\n",
        "\n",
        "#df_filtered = df_filtered_2.copy()\n",
        "df_filtered.reset_index(drop=True, inplace=True)"
      ],
      "metadata": {
        "id": "Xkaz5PnbOicg"
      },
      "execution_count": 13,
      "outputs": []
    },
    {
      "cell_type": "code",
      "source": [
        "len(df_filtered)"
      ],
      "metadata": {
        "colab": {
          "base_uri": "https://localhost:8080/"
        },
        "id": "6M9tglcPO3XG",
        "outputId": "8c988a55-1d11-43b6-d6d2-4229cd540947"
      },
      "execution_count": 14,
      "outputs": [
        {
          "output_type": "execute_result",
          "data": {
            "text/plain": [
              "1011684"
            ]
          },
          "metadata": {},
          "execution_count": 14
        }
      ]
    },
    {
      "cell_type": "code",
      "source": [
        "parsed_GMn_dataset = df_filtered\n",
        "\n",
        "df.to_csv('parsed_GMn_dataset.txt', sep=' ', index=False, header=False)"
      ],
      "metadata": {
        "id": "7KtvEqdYPmep"
      },
      "execution_count": 23,
      "outputs": []
    },
    {
      "cell_type": "code",
      "source": [],
      "metadata": {
        "id": "5b6PDeshVY5P"
      },
      "execution_count": null,
      "outputs": []
    }
  ]
}